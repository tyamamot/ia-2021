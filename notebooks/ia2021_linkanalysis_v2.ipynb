{
 "cells": [
  {
   "cell_type": "markdown",
   "metadata": {},
   "source": [
    "# リンク解析: PageRank 補足資料+演習用ノートブック v2\n",
    "\n",
    "- 氏名:\n",
    "- 学生番号:\n",
    "\n",
    "このノートブックでは，PageRankアルゴリズムの実装例を通して、アルゴリズムの理解を深めることを目的とします．\n",
    "- 6月9日講義配布版からの修正点: 1.3 確率行列へ修正しない行列で行うべき乗法のコード\n",
    "\n",
    "## 演習課題\n",
    "- 本ノートブックの「必須課題」に取り組みノートブックを完成させ，このノートブックをユニパより提出すること\n",
    "- 任意課題は任意である．\n",
    "\n",
    "## 提出締切\n",
    "- 締切: 6月30日（水） 講義開始時まで\n",
    "- 提出方法: ユニバーサルパスポートにこのノートブックを提出"
   ]
  },
  {
   "cell_type": "markdown",
   "metadata": {},
   "source": [
    "# 0. ライブラリのインストール・インポート\n",
    "この演習では以下のライブラリを使用します．\n",
    "- [NetworkX](https://networkx.github.io/)\n",
    "   - グラフの生成，分析，描画などグラフに対する各種操作のためのPythonライブラリ\n",
    "   \n",
    "2つ下のセルある， `networkx`のimportに失敗する場合は，以下のコマンドをコメントアウトし実行してnetworkxをインストールしてください．"
   ]
  },
  {
   "cell_type": "code",
   "execution_count": null,
   "metadata": {},
   "outputs": [],
   "source": [
    "# !conda install networkx"
   ]
  },
  {
   "cell_type": "code",
   "execution_count": null,
   "metadata": {},
   "outputs": [],
   "source": [
    "import numpy as np\n",
    "import numpy.linalg as lg\n",
    "import networkx as nx\n",
    "import matplotlib.pyplot as plt"
   ]
  },
  {
   "cell_type": "code",
   "execution_count": null,
   "metadata": {},
   "outputs": [],
   "source": [
    "%matplotlib inline\n",
    "%precision 2"
   ]
  },
  {
   "cell_type": "markdown",
   "metadata": {},
   "source": [
    "# 1. 講義資料に沿ったPageRankの説明"
   ]
  },
  {
   "cell_type": "markdown",
   "metadata": {},
   "source": [
    "## 1.1 グラフの準備と可視化"
   ]
  },
  {
   "cell_type": "code",
   "execution_count": null,
   "metadata": {
    "scrolled": true
   },
   "outputs": [],
   "source": [
    "G = nx.DiGraph() #有向グラフの生成\n",
    "G.add_nodes_from([1,2,3,4,5,6]) #ノードの定義\n",
    "G.add_edges_from([(1,2),(1,3), #エッジの定義 (1,2) は ノード1　から　ノード2　へ有向エッジがあることを意味\n",
    "                  (2,1),(2,3),\n",
    "                  (3,2),\n",
    "                  (4,3),(4,5),(4,6),\n",
    "                  (6,4),(6,5)])\n",
    "pos = nx.spring_layout(G, k=1)  #バネモデルでグラフをレイアウト\n",
    "nx.draw_networkx(G, pos, with_labels=True, node_size=1000, node_color=\"w\",  edgecolors=\"k\") # グラフを描画\n",
    "plt.show()"
   ]
  },
  {
   "cell_type": "markdown",
   "metadata": {},
   "source": [
    "## 1.2 べき乗法によるPageRankアルゴリズムの実行\n",
    "\n",
    "$\\boldsymbol{p} = dA^T\\boldsymbol{p} + (1-d)\\frac{1}{n}\\boldsymbol{e}$"
   ]
  },
  {
   "cell_type": "markdown",
   "metadata": {},
   "source": [
    "遷移確率行列 $A$ の定義（講義資料後半の確率行列への修正を行っています）"
   ]
  },
  {
   "cell_type": "code",
   "execution_count": null,
   "metadata": {
    "scrolled": true
   },
   "outputs": [],
   "source": [
    " A = np.array([\n",
    "    [0, 1/2, 1/2, 0, 0, 0],\n",
    "    [1/2, 0, 1/2, 0, 0, 0],\n",
    "    [0, 1, 0, 0, 0, 0],\n",
    "    [0, 0, 1/3, 0, 1/3, 1/3],\n",
    "    [1/6, 1/6, 1/6, 1/6, 1/6, 1/6],\n",
    "    [0, 0, 0, 1/2, 1/2, 0],\n",
    "])\n",
    "A"
   ]
  },
  {
   "cell_type": "markdown",
   "metadata": {},
   "source": [
    "べき乗法の適用"
   ]
  },
  {
   "cell_type": "code",
   "execution_count": null,
   "metadata": {},
   "outputs": [],
   "source": [
    "# 各種変数の設定\n",
    "n = 6 # ノードの数\n",
    "d = 0.85 # ダンピングファクター\n",
    "e = np.array([1, 1, 1, 1, 1, 1]) # np.ones(n) 各要素が1のn次元ベクトル\n",
    "print(\"e=\",e)\n",
    "\n",
    "# べき乗法（簡易版）\n",
    "p = np.array([1/6, 1/6, 1/6, 1/6, 1/6, 1/6]) # np.ones(n) / n  # 初期PageRankベクトル（=初期状態分布）の設定\n",
    "print(\"初期PageRankベクトル:\", p)\n",
    "for i in range(10):\n",
    "    p = d * np.dot(A.T, p) + (1-d)*(1/n)* e\n",
    "    print(f\"{i+1}回目のページランクベクトル:{p}\")"
   ]
  },
  {
   "cell_type": "code",
   "execution_count": null,
   "metadata": {
    "scrolled": false
   },
   "outputs": [],
   "source": [
    "# networkxのpagerank関数と結果が一致するか念のため確認・・・\n",
    "nx.pagerank(G, alpha=0.85, tol=1e-6) # alphaがdamping factorに対応（default0.85), tolはべき乗法の収束判定のepsilon\n",
    "# networkxは他にも， nx.pagerank_scipyや nx.pagerank_numpyといった 比較的大規模なデータのためのpagerank計算関数も提供しています"
   ]
  },
  {
   "cell_type": "markdown",
   "metadata": {},
   "source": [
    "## 1.3 確率行列へ修正しない行列で行うべき乗法\n"
   ]
  },
  {
   "cell_type": "markdown",
   "metadata": {},
   "source": [
    "この行列Aに対して，以下の式でべき乗法を実行してみます．\n",
    "$\\boldsymbol{p} = A^T\\boldsymbol{p}$\n",
    "- 補足: 6月9日に配ったノートブックは， ダンピングファクター $d$ がコードに残ってしまっていました（$\\boldsymbol{p} = dA^T\\boldsymbol{p}$　という式になってしまっていました．この式だと$d<1.0$のときに$\\boldsymbol{p}$の長さが小さくなっていくのは自明です）．訂正いたします．"
   ]
  },
  {
   "cell_type": "code",
   "execution_count": null,
   "metadata": {
    "scrolled": true
   },
   "outputs": [],
   "source": [
    "A = np.array([\n",
    "    [0, 1/2, 1/2, 0, 0, 0],\n",
    "    [1/2, 0, 1/2, 0, 0, 0],\n",
    "    [0, 1, 0, 0, 0, 0],\n",
    "    [0, 0, 1/3, 0, 1/3, 1/3],\n",
    "    [0, 0, 0, 0, 0, 0], #ここが確率行列になっていない\n",
    "    [0, 0, 0, 1/2, 1/2, 0],\n",
    "])\n",
    "A\n",
    "\n",
    "# べき乗法（簡易版）\n",
    "p = np.array([1/6, 1/6, 1/6, 1/6, 1/6, 1/6]) # np.ones(n) / n  # 初期値の設定\n",
    "print(\"初期ページランクベクトル:\", p)\n",
    "for i in range(10):\n",
    "    p = np.dot(A.T, p)\n",
    "    print(f\"{i+1}回目のページランクベクトル:{p}\") \n",
    "    print(f\"{i+1}回目のページランクベクトルのL1ノルム:{np.linalg.norm(p, ord=1)}\") \n",
    "    print()"
   ]
  },
  {
   "cell_type": "markdown",
   "metadata": {},
   "source": [
    "ノード4,5,6に対するPageRank値がどんどん小さくなっていっているのが分かります\n",
    "- 補足: 今回は3->4へのリンクがありませんが， 3->4へのリンクがあると，全てのノードに対するPageRank値が0に近づいていきます\n",
    "\n",
    "3->4へのリンクを追加した遷移確率行列$A$を用いて， $p=A^Tp$"
   ]
  },
  {
   "cell_type": "code",
   "execution_count": null,
   "metadata": {},
   "outputs": [],
   "source": [
    "A = np.array([\n",
    "    [0, 1/2, 1/2, 0, 0, 0],\n",
    "    [1/2, 0, 1/2, 0, 0, 0],\n",
    "    [0, 1/2, 0, 1/2, 0, 0], # ページ3からページ4へのリンクを新たに張ってみる\n",
    "    [0, 0, 1/3, 0, 1/3, 1/3],\n",
    "    [0, 0, 0, 0, 0, 0], #ここが確率行列になっていない\n",
    "    [0, 0, 0, 1/2, 1/2, 0],\n",
    "])\n",
    "A\n",
    "\n",
    "# べき乗法（簡易版）\n",
    "p = np.array([1/6, 1/6, 1/6, 1/6, 1/6, 1/6]) # np.ones(n) / n  # 初期値の設定\n",
    "print(\"初期ページランクベクトル:\", p)\n",
    "for i in range(10):\n",
    "    p = np.dot(A.T, p)\n",
    "    print(f\"{i+1}回目のページランクベクトル:{p}\") \n",
    "    print(f\"{i+1}回目のページランクベクトルのL1ノルム:{np.linalg.norm(p, ord=1)}\") \n",
    "    print()"
   ]
  },
  {
   "cell_type": "markdown",
   "metadata": {},
   "source": [
    "## 1.4 固有値との関係"
   ]
  },
  {
   "cell_type": "code",
   "execution_count": null,
   "metadata": {},
   "outputs": [],
   "source": [
    " A = np.array([\n",
    "    [0, 1/2, 1/2, 0, 0, 0],\n",
    "    [1/2, 0, 1/2, 0, 0, 0],\n",
    "    [0, 1, 0, 0, 0, 0],\n",
    "    [0, 0, 1/3, 0, 1/3, 1/3],\n",
    "    [1/6, 1/6, 1/6, 1/6, 1/6, 1/6],\n",
    "    [0, 0, 0, 1/2, 1/2, 0],\n",
    "])\n",
    "A"
   ]
  },
  {
   "cell_type": "code",
   "execution_count": null,
   "metadata": {},
   "outputs": [],
   "source": [
    "M = d * A.T + (1-d)*(1/n) * np.ones([n,n])\n",
    "M"
   ]
  },
  {
   "cell_type": "code",
   "execution_count": null,
   "metadata": {},
   "outputs": [],
   "source": [
    "l, x = np.linalg.eig(M) # M の固有値と固有ベクトルを求める"
   ]
  },
  {
   "cell_type": "code",
   "execution_count": null,
   "metadata": {},
   "outputs": [],
   "source": [
    "print(l) # 固有値のリスト\n",
    "print(np.abs(l[0])) # 最大の固有値"
   ]
  },
  {
   "cell_type": "code",
   "execution_count": null,
   "metadata": {},
   "outputs": [],
   "source": [
    "np.abs(x[:, 0])  / np.abs(x[:, 0]).sum() # 最大の固有値に対応する固有ベクトル（をL1ノルムが1になるように正規化したもの）"
   ]
  },
  {
   "cell_type": "markdown",
   "metadata": {},
   "source": [
    "べき乗法で求めたPageRank値ベクトルと一致していますね！"
   ]
  },
  {
   "cell_type": "markdown",
   "metadata": {},
   "source": [
    "## 2. もう少し丁寧なPageRankアルゴリズムの実装\n",
    "\n",
    "参考までに，べき乗法に基づくPageRankアルゴリズムは以下のように記述できます． "
   ]
  },
  {
   "cell_type": "code",
   "execution_count": null,
   "metadata": {},
   "outputs": [],
   "source": [
    "def pagerank(A, d = 0.85, eps = 1e-6):\n",
    "    \"\"\"\n",
    "      A: 遷移確率行列（確率行列の修正済み）\n",
    "      d: damping factor\n",
    "      eps: 誤差（eps以下になれば終了）\n",
    "    \"\"\"\n",
    "    n = A.shape[0]  #ページ数n\n",
    "    e = np.ones(A.shape[0]) #要素が1のn次元ベクトル\n",
    "    p = e  / n #PageRankベクトルの初期化（初期状態分布）\n",
    "    while True: # while Trueとしているが，実際には一定回数以上ループを繰り返すとアルゴリズムを終了するような設計がよい\n",
    "        p_next = d * np.dot(A.T, p) + (1.0 - d) * e / n # PageRankベクトルの更新\n",
    "        if lg.norm(p_next - p, ord=1) <= eps: #差のL1ノルムがeps以下になれば，終了\n",
    "            p = p_next\n",
    "            break\n",
    "        p = p_next\n",
    "    return p"
   ]
  },
  {
   "cell_type": "markdown",
   "metadata": {},
   "source": [
    "では，上記のアルゴリズムを用いて，実際のグラフでPageRankを計算してみましょう．\n",
    "\n",
    "簡単のため，以下のような3ノードの有向グラフ$G$を考えます．"
   ]
  },
  {
   "cell_type": "code",
   "execution_count": null,
   "metadata": {
    "scrolled": false
   },
   "outputs": [],
   "source": [
    "# 有向グラフの描画\n",
    "G = nx.DiGraph()\n",
    "G.add_nodes_from([1,2,3])\n",
    "G.add_edges_from([(1,2),(3,2)])\n",
    "pos = nx.spring_layout(G) # ばねモデルに基づくグラフのレイアウト\n",
    "nx.draw_networkx(G, pos, with_labels=True, node_size=1000, node_color=\"w\",  edgecolors=\"k\")\n",
    "plt.show()"
   ]
  },
  {
   "cell_type": "markdown",
   "metadata": {},
   "source": [
    "このグラフ$G$に対応する遷移確率行列$A$は下記のように定義できます（「確率行列」となるよう，ページ2に対応する遷移確率の修正を行っている点に注意）．"
   ]
  },
  {
   "cell_type": "code",
   "execution_count": null,
   "metadata": {
    "scrolled": false
   },
   "outputs": [],
   "source": [
    "A = np.array([\n",
    "    [0, 1, 0],\n",
    "    [1/3, 1/3, 1/3],\n",
    "    [0, 1, 0]\n",
    "])\n",
    "A"
   ]
  },
  {
   "cell_type": "markdown",
   "metadata": {},
   "source": [
    "$d = 0.85$, $\\epsilon = 10^{-6}$としたときのPageRankベクトル ${\\mathbf p} = \\{ p_1, p_2, p_3 \\}$ は，以下のように求められます．"
   ]
  },
  {
   "cell_type": "code",
   "execution_count": null,
   "metadata": {
    "scrolled": false
   },
   "outputs": [],
   "source": [
    "p = pagerank(A, d = 0.85, eps=1e-6)\n",
    "p"
   ]
  },
  {
   "cell_type": "markdown",
   "metadata": {},
   "source": [
    "$p_1=0.21, p_2=0.57,  p_3=0.21$となり，多くの入リンクを持つページ$2$が高いPageRank値を持つであろうという直感と一致することがわかります．"
   ]
  },
  {
   "cell_type": "markdown",
   "metadata": {},
   "source": [
    "# 演習課題\n",
    "\n",
    "1. を参考に，以下の課題に取り組んでみてください．　適宜セルを複数作成してもらって構いません．"
   ]
  },
  {
   "cell_type": "markdown",
   "metadata": {},
   "source": [
    "## 必須課題: PageRankアルゴリズムの確認\n",
    "\n",
    "講義資料「リンク解析その1」 p.4のグラフに対して，行列$A$が確率行列の性質を満たすよう修正し,べき乗法に基づくPageRankの計算を適用し，どのノードが最も高いPageRank値となったか結果を報告せよ．\n",
    "ダンピングファクターは $d = 0.85$とせよ．\n",
    "\n",
    "さらに，さまざまな初期状態分布（つまり，初期PageRankベクトル，値の総和は1である必要がある）に対してべき乗法に基づくPageRankの計算を適用し，異なる初期状態分布に対しても同じPageRankベクトルが得られることを確認せよ．\n",
    "\n",
    "補足: 1.1と1.2 を参考にコードを書いてみましょう．"
   ]
  },
  {
   "cell_type": "code",
   "execution_count": null,
   "metadata": {},
   "outputs": [],
   "source": []
  },
  {
   "cell_type": "markdown",
   "metadata": {},
   "source": [
    "## 任意課題: 定常分布\n",
    "\n",
    "講義で述べたように，マルコフ連鎖が一意の定常分布 ${\\mathbf \\pi}$ を持つためには，そのマルコフ連鎖は既約かつ非周期的である必要がある．そこで，「既約ではあるが非周期的でないマルコフ連鎖」であるようなグラフ$G$を用意し，$G$に対してテレポーテーションを用いない単純なPageRankアルゴリズム（すなわち，${\\mathbf p} = A^{T}{\\mathbf p}$）に基づくべき乗法を適用することで，初期状態分布によってはPageRankベクトルが収束しない場合があることを確認せよ．\n",
    "\n",
    "- 用意したグラフ$G$をNetworkXで可視化すること\n",
    "- 用意したグラフ$G$は，講義で使用した例とは異なる例を用いること\n",
    "\n",
    "補足: まずは 1.1 を参考に，グラフ$G$を用意してnetworkxで可視化してみましょう． 次に，初期状態分布によってはべき乗法で定常状態が求まることもありますので，いろいろな初期状態分布で1.3で書いた${\\mathbf p} = A^{T}{\\mathbf p}$に基づくべき乗法をためしてみましょう．\n"
   ]
  },
  {
   "cell_type": "code",
   "execution_count": null,
   "metadata": {},
   "outputs": [],
   "source": []
  }
 ],
 "metadata": {
  "kernelspec": {
   "display_name": "Python 3",
   "language": "python",
   "name": "python3"
  },
  "language_info": {
   "codemirror_mode": {
    "name": "ipython",
    "version": 3
   },
   "file_extension": ".py",
   "mimetype": "text/x-python",
   "name": "python",
   "nbconvert_exporter": "python",
   "pygments_lexer": "ipython3",
   "version": "3.7.2"
  }
 },
 "nbformat": 4,
 "nbformat_minor": 1
}
